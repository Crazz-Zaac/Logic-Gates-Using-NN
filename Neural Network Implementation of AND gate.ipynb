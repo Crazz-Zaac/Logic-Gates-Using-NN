{
 "cells": [
  {
   "cell_type": "code",
   "execution_count": 20,
   "id": "94b6bdff",
   "metadata": {},
   "outputs": [],
   "source": [
    "import numpy as np\n",
    "from matplotlib import pyplot as plt"
   ]
  },
  {
   "cell_type": "markdown",
   "id": "d0433dc9",
   "metadata": {},
   "source": [
    "### Defining Sigmoid Function"
   ]
  },
  {
   "cell_type": "code",
   "execution_count": 21,
   "id": "1173cb7a",
   "metadata": {},
   "outputs": [],
   "source": [
    "def sigmoid(z):\n",
    "    return 1 / (1 + np.exp(-z))"
   ]
  },
  {
   "cell_type": "markdown",
   "id": "0673f411",
   "metadata": {},
   "source": [
    "### Parameters Initialization"
   ]
  },
  {
   "cell_type": "code",
   "execution_count": 22,
   "id": "e2a6231d",
   "metadata": {},
   "outputs": [],
   "source": [
    "def initializeParameters(inputFeatures, neuronsInHiddenLayers, outputFeatures):\n",
    "    W1 = np.random.randn(neuronsInHiddenLayers, inputFeatures)\n",
    "    W2 = np.random.randn(outputFeatures, neuronsInHiddenLayers)\n",
    "    \n",
    "    b1 = np.zeros((neuronsInHiddenLayers, 1))\n",
    "    b2 = np.zeros((outputFeatures, 1))\n",
    "    \n",
    "    parameters = {\n",
    "        \"W1\": W1, \"b1\": b1,\n",
    "        \"W2\": W2, \"b2\": b2}\n",
    "    \n",
    "    return parameters\n",
    "    "
   ]
  },
  {
   "cell_type": "markdown",
   "id": "a96d5392",
   "metadata": {},
   "source": [
    "### Implementing Forward propagation"
   ]
  },
  {
   "cell_type": "code",
   "execution_count": 23,
   "id": "8567bb68",
   "metadata": {},
   "outputs": [],
   "source": [
    "def forwardPropagation(X, Y, parameters):\n",
    "    m = X.shape[1]\n",
    "    W1 = parameters[\"W1\"]\n",
    "    W2 = parameters[\"W2\"]\n",
    "    b1 = parameters[\"b1\"]\n",
    "    b2 = parameters[\"b2\"]\n",
    "    \n",
    "    Z1 = np.dot(W1, X) + b1\n",
    "    A1 = sigmoid(Z1)\n",
    "    \n",
    "    Z2 = np.dot(W2, A1) + b2\n",
    "    A2 = sigmoid(Z2)\n",
    "    \n",
    "    cache = (W1, A1, Z1, b1, W2, A2, Z2, b2)\n",
    "    logprobs = np.multiply(Y, np.log(A2)) + np.multiply((1 - Y), np.log(1 - A2))\n",
    "    cost = -1/m*np.sum(logprobs)\n",
    "    \n",
    "    return cost, cache, A2"
   ]
  },
  {
   "cell_type": "markdown",
   "id": "1ad8e433",
   "metadata": {},
   "source": [
    "### Implementing Backward Propagation"
   ]
  },
  {
   "cell_type": "code",
   "execution_count": 24,
   "id": "0c3b05e8",
   "metadata": {},
   "outputs": [],
   "source": [
    "def backPropagation(X, Y, cache):\n",
    "    m = X.shape[1]\n",
    "    (W1, A1, Z1, b1, W2, A2, Z2, b2) = cache\n",
    "    \n",
    "    dZ2 = A2 - Y\n",
    "    dW2 = np.dot(dZ2, A1.T)/m\n",
    "    db2 = np.sum(dZ2, axis=1, keepdims=True)\n",
    "    \n",
    "    dZ1 = np.dot(dZ2, W2.T) * A1 * (1 - A1)\n",
    "    dW1 = np.dot(dZ1, X.T) / m\n",
    "    db1 = np.sum(dZ1, axis=1, keepdims=True)\n",
    "    \n",
    "    gradients = {\n",
    "        \"dZ1\": dZ1, \"dW1\": dW1, \"db1\": db1,\n",
    "        \"dZ2\": dZ2, \"dW2\": dW2, \"db2\": db2}\n",
    "    \n",
    "    return gradients\n",
    "    \n",
    "    "
   ]
  },
  {
   "cell_type": "markdown",
   "id": "c85a0cf2",
   "metadata": {},
   "source": [
    "### Updating parameters"
   ]
  },
  {
   "cell_type": "code",
   "execution_count": 25,
   "id": "a2537523",
   "metadata": {},
   "outputs": [],
   "source": [
    "def updateParameters(parameters, gradients, alpha):\n",
    "    parameters[\"W1\"] = parameters[\"W1\"] - alpha * gradients[\"dW1\"]\n",
    "    parameters[\"W2\"] = parameters[\"W2\"] - alpha * gradients[\"dW2\"]\n",
    "    parameters[\"b1\"] = parameters[\"b1\"] - alpha * gradients[\"db1\"]\n",
    "    parameters[\"b2\"] = parameters[\"b2\"] - alpha * gradients[\"db2\"]\n",
    "    \n",
    "    return parameters"
   ]
  },
  {
   "cell_type": "markdown",
   "id": "f9f1736e",
   "metadata": {},
   "source": [
    "### Training data"
   ]
  },
  {
   "cell_type": "code",
   "execution_count": 26,
   "id": "945df7c3",
   "metadata": {},
   "outputs": [],
   "source": [
    "X = np.array([[1, 0, 1, 0],\n",
    "             [1, 1, 0, 0]])\n",
    "\n",
    "Y = np.array([[1, 0, 0, 0]])"
   ]
  },
  {
   "cell_type": "markdown",
   "id": "a9c0414e",
   "metadata": {},
   "source": [
    "### Training model with parameters"
   ]
  },
  {
   "cell_type": "code",
   "execution_count": 27,
   "id": "154b6bf4",
   "metadata": {},
   "outputs": [],
   "source": [
    "neuronsInHiddenLayers = 4\n",
    "inputFeatures = X.shape[0]\n",
    "outputFeatures = Y.shape[0]\n",
    "parameters = initializeParameters(inputFeatures, neuronsInHiddenLayers, outputFeatures)\n",
    "epoch = 10000\n",
    "alpha = 0.01\n",
    "losses = np.zeros((epoch, 1))"
   ]
  },
  {
   "cell_type": "code",
   "execution_count": 28,
   "id": "43c9b061",
   "metadata": {},
   "outputs": [],
   "source": [
    "for i in range(epoch):\n",
    "    losses[i, 0], cache, A2 = forwardPropagation(X, Y, parameters)\n",
    "    gradients = backPropagation(X, Y, cache)\n",
    "    parameters = updateParameters(parameters, gradients, alpha)\n",
    "    "
   ]
  },
  {
   "cell_type": "markdown",
   "id": "80466109",
   "metadata": {},
   "source": [
    "### Evaluating performance"
   ]
  },
  {
   "cell_type": "code",
   "execution_count": 29,
   "id": "c6a6af03",
   "metadata": {},
   "outputs": [
    {
     "data": {
      "image/png": "[encoded data removed]",
      "text/plain": [
       "<Figure size 432x288 with 1 Axes>"
      ]
     },
     "metadata": {
      "needs_background": "light"
     },
     "output_type": "display_data"
    }
   ],
   "source": [
    "plt.figure()\n",
    "plt.plot(losses)\n",
    "plt.xlabel(\"Epochs\")\n",
    "plt.ylabel(\"Loss value\")\n",
    "plt.show()"
   ]
  },
  {
   "cell_type": "markdown",
   "id": "cb2f57e3",
   "metadata": {},
   "source": [
    "### Testing result"
   ]
  },
  {
   "cell_type": "code",
   "execution_count": 31,
   "id": "4cfa6122",
   "metadata": {},
   "outputs": [
    {
     "name": "stdout",
     "output_type": "stream",
     "text": [
      "[[0. 0. 0. 0.]]\n"
     ]
    }
   ],
   "source": [
    "X = np.array([[1, 1, 0, 1],\n",
    "             [0, 1, 1, 0]])\n",
    "# Y = np.array([[0, 0, 0, 0]])\n",
    "cost, _, A2 = forwardPropagation(X, Y, parameters)\n",
    "prediction = (A2 > 0.5) * 1.0\n",
    "print(prediction)"
   ]
  },
  {
   "cell_type": "code",
   "execution_count": null,
   "id": "019c51b6",
   "metadata": {},
   "outputs": [],
   "source": []
  }
 ],
 "metadata": {
  "kernelspec": {
   "display_name": "Python 3 (ipykernel)",
   "language": "python",
   "name": "python3"
  },
  "language_info": {
   "codemirror_mode": {
    "name": "ipython",
    "version": 3
   },
   "file_extension": ".py",
   "mimetype": "text/x-python",
   "name": "python",
   "nbconvert_exporter": "python",
   "pygments_lexer": "ipython3",
   "version": "3.9.7"
  }
 },
 "nbformat": 4,
 "nbformat_minor": 5
}

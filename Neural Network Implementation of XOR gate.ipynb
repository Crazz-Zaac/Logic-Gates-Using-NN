{
 "cells": [
  {
   "cell_type": "markdown",
   "id": "f7f1dfbe",
   "metadata": {},
   "source": [
    "### Importing python libraries"
   ]
  },
  {
   "cell_type": "code",
   "execution_count": 1,
   "id": "7bdeb362",
   "metadata": {},
   "outputs": [],
   "source": [
    "import numpy as np\n",
    "from matplotlib import pyplot as plt\n",
    "import pickle\n",
    "import pandas as pd"
   ]
  },
  {
   "cell_type": "markdown",
   "id": "228df1de",
   "metadata": {},
   "source": [
    "### Sigmoid function"
   ]
  },
  {
   "cell_type": "code",
   "execution_count": 2,
   "id": "a8421d84",
   "metadata": {},
   "outputs": [],
   "source": [
    "def sigmoid(z):\n",
    "    return 1 / (1 + np.exp(-z))"
   ]
  },
  {
   "cell_type": "markdown",
   "id": "8acef826",
   "metadata": {},
   "source": [
    "### Parameters initialization"
   ]
  },
  {
   "cell_type": "code",
   "execution_count": 3,
   "id": "0f4ac744",
   "metadata": {},
   "outputs": [],
   "source": [
    "def initializeParameters(inputFeatures, neuronsInHiddenLayers, outputFeatures):\n",
    "    W1 = np.random.randn(neuronsInHiddenLayers, inputFeatures)\n",
    "    W2 = np.random.randn(outputFeatures, neuronsInHiddenLayers)\n",
    "    b1 = np.zeros((neuronsInHiddenLayers, 1))\n",
    "    b2 = np.zeros((outputFeatures, 1))\n",
    "    \n",
    "    parameters = {\"W1\": W1, \"b1\":b1,\n",
    "                 \"W2\": W2, \"b2\":b2}\n",
    "    \n",
    "    return parameters"
   ]
  },
  {
   "cell_type": "markdown",
   "id": "57b159e6",
   "metadata": {},
   "source": [
    "### Forward propagation"
   ]
  },
  {
   "cell_type": "code",
   "execution_count": 4,
   "id": "a2b2a359",
   "metadata": {},
   "outputs": [],
   "source": [
    "def forwardPropagation(X, Y, parameters):\n",
    "    m = X.shape[1]\n",
    "    W1 = parameters[\"W1\"]\n",
    "    W2 = parameters[\"W2\"]\n",
    "    b1 = parameters[\"b1\"]\n",
    "    b2 = parameters[\"b2\"]\n",
    "    \n",
    "    Z1 = np.dot(W1, X) + b1\n",
    "    A1 = sigmoid(Z1)\n",
    "    \n",
    "    Z2 = np.dot(W2, A1) + b2\n",
    "    A2 = sigmoid(Z2)\n",
    "\n",
    "    cache = (Z1, A1, W1, b1, Z2, A2, W2, b2)\n",
    "    logprobs = np.multiply(np.log(A2), Y) + np.multiply(np.log(1 - A2), (1- Y))\n",
    "    cost = -1/m * np.sum(logprobs)\n",
    "    return cost, cache, A2\n",
    "    "
   ]
  },
  {
   "cell_type": "markdown",
   "id": "9b545842",
   "metadata": {},
   "source": [
    "### Backward propagation\n",
    "\n",
    "We divide by `m` for <b>m</b> examples"
   ]
  },
  {
   "cell_type": "code",
   "execution_count": 5,
   "id": "6cb933bf",
   "metadata": {},
   "outputs": [],
   "source": [
    "def backwarPropagation(X, Y, cache):\n",
    "    m = X.shape[1]\n",
    "    (Z1, A1, W1, b1, Z2, A2, W2, b2) = cache\n",
    "    \n",
    "    dZ2 = A2 - Y\n",
    "    dW2 = np.dot(dZ2, A1.T) / m\n",
    "    db2 = np.sum(dZ2, axis=1, keepdims=True)\n",
    "    \n",
    "    dA1 = np.dot(W2.T, dZ2)\n",
    "    dZ1 = np.multiply(dA1, A1*(1-A1))\n",
    "    dW1 = np.dot(dZ1, X.T)\n",
    "    db1 = np.sum(dZ1, axis=1, keepdims=True)/m\n",
    "    \n",
    "    gradients = {\"dZ2\":dZ2, \"dW2\":dW2, \"db2\":db2,\n",
    "                \"dZ1\":dZ1, \"dW1\":dW1, \"db1\":db1}\n",
    "    \n",
    "    return gradients\n",
    "    "
   ]
  },
  {
   "cell_type": "markdown",
   "id": "da26df0e",
   "metadata": {},
   "source": [
    "### Updating parameters"
   ]
  },
  {
   "cell_type": "code",
   "execution_count": 6,
   "id": "56389be8",
   "metadata": {},
   "outputs": [],
   "source": [
    "def updateParameters(parameters, gradients, alpha):\n",
    "    parameters[\"W1\"] = parameters[\"W1\"] - alpha * gradients[\"dW1\"]\n",
    "    parameters[\"W2\"] = parameters[\"W2\"] - alpha * gradients[\"dW2\"]\n",
    "    parameters[\"b1\"] = parameters[\"b1\"] - alpha * gradients[\"db1\"]\n",
    "    parameters[\"b2\"] = parameters[\"b2\"] - alpha * gradients[\"db2\"]\n",
    "    return parameters"
   ]
  },
  {
   "cell_type": "markdown",
   "id": "535e107d",
   "metadata": {},
   "source": [
    "### Model to learn the XOR gate"
   ]
  },
  {
   "cell_type": "code",
   "execution_count": 7,
   "id": "775e20be",
   "metadata": {},
   "outputs": [],
   "source": [
    "X = np.array([[0, 0, 1, 1],\n",
    "             [0, 1, 0, 1]])\n",
    "\n",
    "Y = np.array([[0, 1, 1, 0]])"
   ]
  },
  {
   "cell_type": "markdown",
   "id": "01f60c10",
   "metadata": {},
   "source": [
    "### Training model with Model parameters"
   ]
  },
  {
   "cell_type": "code",
   "execution_count": 8,
   "id": "4880a5f2",
   "metadata": {},
   "outputs": [],
   "source": [
    "nueronsInHiddenLayers = 4\n",
    "inputFeatures = X.shape[0]\n",
    "outputFeatures = Y.shape[0]\n",
    "parameters = initializeParameters(inputFeatures, nueronsInHiddenLayers, outputFeatures)\n",
    "epoch = 10000\n",
    "alpha = 0.01 #learning rate\n",
    "losses = np.zeros((epoch, 1))"
   ]
  },
  {
   "cell_type": "code",
   "execution_count": 18,
   "id": "dff0fdcd",
   "metadata": {},
   "outputs": [],
   "source": [
    "def train(X, Y):\n",
    "    nueronsInHiddenLayers = 4\n",
    "    inputFeatures = X.shape[0]\n",
    "    outputFeatures = Y.shape[0]\n",
    "    parameters = initializeParameters(inputFeatures, nueronsInHiddenLayers, outputFeatures)\n",
    "    epoch = 1000000\n",
    "    alpha = 0.01 #learning rate\n",
    "    losses = np.zeros((epoch, 1))\n",
    "    for i in range(epoch):\n",
    "        losses[i, 0], cache, A2 = forwardPropagation(X, Y, parameters)\n",
    "        gradients = backwarPropagation(X, Y, cache)\n",
    "        parameters = updateParameters(parameters, gradients, alpha)"
   ]
  },
  {
   "cell_type": "code",
   "execution_count": 10,
   "id": "874918b1",
   "metadata": {},
   "outputs": [],
   "source": [
    "X = np.array([[0, 0, 1, 1],\n",
    "             [0, 1, 0, 1]])\n",
    "\n",
    "Y = np.array([[0, 1, 1, 0]])\n",
    "\n",
    "model = train(X, Y)\n",
    "filename = 'finalized_model.sav'\n",
    "pickle.dump(model, open(filename, 'wb'))"
   ]
  },
  {
   "cell_type": "markdown",
   "id": "05516246",
   "metadata": {},
   "source": [
    "### Evaluating performance"
   ]
  },
  {
   "cell_type": "code",
   "execution_count": 19,
   "id": "3062fd9d",
   "metadata": {},
   "outputs": [
    {
     "data": {
      "image/png": "[encoded data removed]",
      "text/plain": [
       "<Figure size 432x288 with 1 Axes>"
      ]
     },
     "metadata": {
      "needs_background": "light"
     },
     "output_type": "display_data"
    }
   ],
   "source": [
    "plt.figure()\n",
    "plt.plot(losses)\n",
    "plt.xlabel(\"Epochs\")\n",
    "plt.ylabel(\"Loss value\")\n",
    "plt.show()"
   ]
  },
  {
   "cell_type": "markdown",
   "id": "c0ef2f9f",
   "metadata": {},
   "source": [
    "### Testing"
   ]
  },
  {
   "cell_type": "code",
   "execution_count": 20,
   "id": "1bb3faf7",
   "metadata": {},
   "outputs": [
    {
     "name": "stdout",
     "output_type": "stream",
     "text": [
      "[[1. 0. 1. 1.]]\n"
     ]
    }
   ],
   "source": [
    "X = np.array([[0, 0, 1, 1], \n",
    "              [0, 1, 1, 0]])\n",
    "cost, _, A2 = forwardPropagation(X, Y, parameters)\n",
    "prediction = (A2 > 0.5) * 1.0\n",
    "print(prediction)"
   ]
  },
  {
   "cell_type": "code",
   "execution_count": null,
   "id": "207e714e",
   "metadata": {},
   "outputs": [],
   "source": []
  },
  {
   "cell_type": "code",
   "execution_count": null,
   "id": "d71e5695",
   "metadata": {},
   "outputs": [],
   "source": []
  },
  {
   "cell_type": "code",
   "execution_count": null,
   "id": "6e2f7273",
   "metadata": {},
   "outputs": [],
   "source": []
  },
  {
   "cell_type": "code",
   "execution_count": 13,
   "id": "e7a7e7cd",
   "metadata": {},
   "outputs": [],
   "source": [
    "df = pd.DataFrame({'var_1':['a','b','c'], 'var_2':[1, 2, 3], 'var_3':['apple', 'banana', 'pear']})\n",
    "cols = ['var_1', 'var_2']    # Set columns to combine\n",
    "df['combined'] = df[cols].apply(lambda row: ', '.join(row.values.astype(str)), axis=1)\n",
    "\n",
    "# Define which column is index\n",
    "df_i = df.set_index('combined') \n",
    "\n",
    "# Set the index to None\n",
    "df_i.index.names = [None] "
   ]
  },
  {
   "cell_type": "code",
   "execution_count": 14,
   "id": "92d722e0",
   "metadata": {},
   "outputs": [
    {
     "data": {
      "text/html": [
       "<div>\n",
       "<style scoped>\n",
       "    .dataframe tbody tr th:only-of-type {\n",
       "        vertical-align: middle;\n",
       "    }\n",
       "\n",
       "    .dataframe tbody tr th {\n",
       "        vertical-align: top;\n",
       "    }\n",
       "\n",
       "    .dataframe thead th {\n",
       "        text-align: right;\n",
       "    }\n",
       "</style>\n",
       "<table border=\"1\" class=\"dataframe\">\n",
       "  <thead>\n",
       "    <tr style=\"text-align: right;\">\n",
       "      <th></th>\n",
       "      <th>var_1</th>\n",
       "      <th>var_2</th>\n",
       "      <th>var_3</th>\n",
       "    </tr>\n",
       "  </thead>\n",
       "  <tbody>\n",
       "    <tr>\n",
       "      <th>a, 1</th>\n",
       "      <td>a</td>\n",
       "      <td>1</td>\n",
       "      <td>apple</td>\n",
       "    </tr>\n",
       "    <tr>\n",
       "      <th>b, 2</th>\n",
       "      <td>b</td>\n",
       "      <td>2</td>\n",
       "      <td>banana</td>\n",
       "    </tr>\n",
       "    <tr>\n",
       "      <th>c, 3</th>\n",
       "      <td>c</td>\n",
       "      <td>3</td>\n",
       "      <td>pear</td>\n",
       "    </tr>\n",
       "  </tbody>\n",
       "</table>\n",
       "</div>"
      ],
      "text/plain": [
       "     var_1  var_2   var_3\n",
       "a, 1     a      1   apple\n",
       "b, 2     b      2  banana\n",
       "c, 3     c      3    pear"
      ]
     },
     "execution_count": 14,
     "metadata": {},
     "output_type": "execute_result"
    }
   ],
   "source": [
    "df_i"
   ]
  },
  {
   "cell_type": "code",
   "execution_count": 15,
   "id": "a06a0227",
   "metadata": {},
   "outputs": [
    {
     "data": {
      "text/html": [
       "<div>\n",
       "<style scoped>\n",
       "    .dataframe tbody tr th:only-of-type {\n",
       "        vertical-align: middle;\n",
       "    }\n",
       "\n",
       "    .dataframe tbody tr th {\n",
       "        vertical-align: top;\n",
       "    }\n",
       "\n",
       "    .dataframe thead th {\n",
       "        text-align: right;\n",
       "    }\n",
       "</style>\n",
       "<table border=\"1\" class=\"dataframe\">\n",
       "  <thead>\n",
       "    <tr style=\"text-align: right;\">\n",
       "      <th></th>\n",
       "      <th>X</th>\n",
       "      <th>Y</th>\n",
       "    </tr>\n",
       "  </thead>\n",
       "  <tbody>\n",
       "    <tr>\n",
       "      <th>0</th>\n",
       "      <td>[0, 0]</td>\n",
       "      <td>0</td>\n",
       "    </tr>\n",
       "    <tr>\n",
       "      <th>1</th>\n",
       "      <td>[0, 1]</td>\n",
       "      <td>1</td>\n",
       "    </tr>\n",
       "    <tr>\n",
       "      <th>2</th>\n",
       "      <td>[1, 0]</td>\n",
       "      <td>1</td>\n",
       "    </tr>\n",
       "    <tr>\n",
       "      <th>3</th>\n",
       "      <td>[1, 1]</td>\n",
       "      <td>0</td>\n",
       "    </tr>\n",
       "  </tbody>\n",
       "</table>\n",
       "</div>"
      ],
      "text/plain": [
       "        X  Y\n",
       "0  [0, 0]  0\n",
       "1  [0, 1]  1\n",
       "2  [1, 0]  1\n",
       "3  [1, 1]  0"
      ]
     },
     "execution_count": 15,
     "metadata": {},
     "output_type": "execute_result"
    }
   ],
   "source": [
    "data = {'X':[[0, 0],[0, 1], [1, 0], [1, 1]],\n",
    "                'Y':[0, 1, 1, 0]}\n",
    "df = pd.DataFrame(data)\n",
    "df"
   ]
  }
 ],
 "metadata": {
  "kernelspec": {
   "display_name": "Python 3 (ipykernel)",
   "language": "python",
   "name": "python3"
  },
  "language_info": {
   "codemirror_mode": {
    "name": "ipython",
    "version": 3
   },
   "file_extension": ".py",
   "mimetype": "text/x-python",
   "name": "python",
   "nbconvert_exporter": "python",
   "pygments_lexer": "ipython3",
   "version": "3.9.7"
  }
 },
 "nbformat": 4,
 "nbformat_minor": 5
}
